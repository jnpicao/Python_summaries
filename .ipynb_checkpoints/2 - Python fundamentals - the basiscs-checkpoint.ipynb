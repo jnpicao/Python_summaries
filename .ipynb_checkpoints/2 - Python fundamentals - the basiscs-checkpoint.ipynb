{
 "cells": [
  {
   "cell_type": "markdown",
   "metadata": {},
   "source": [
    "# Variables and data types\n",
    "\n",
    "**Rounding a number**  \n",
    "`round(4.95)`  \n",
    "\n",
    "**Converting between data types**  \n",
    "`int('4')`  \n",
    "`str(4)`  \n",
    "`float('4.3')`  \n",
    "`str(4.3)`  \n",
    "\n",
    "**Finding type**  \n",
    "`type('4')`  \n",
    "`type(4)`"
   ]
  },
  {
   "cell_type": "markdown",
   "metadata": {},
   "source": [
    "# Conditional statements  \n",
    "\n",
    "**Python Arithmetic Operators**: + (also concatenates strings and lists) , - , * , / (floating point division), % (reminder of the division), \\*\\* (exponent), // (floor or integer division)  \n",
    "**Python Comparison Operators**: == , != , > , < , >= , <=  \n",
    "**Python Logical Operators**: and , or , not  \n",
    "**Python Identity Operators**: is (returns true if both variables are the same object), is not (returns true if both variables are not the same object)  \n",
    "**Python Membership Operators**: in , not in  \n",
    "\n",
    "\n",
    "## If, elif, else sintax example:  \n",
    "\n",
    "`if num > 0:\n",
    "    print(\"Positive number\")\n",
    "elif num == 0:\n",
    "    print(\"Zero\")\n",
    "else:\n",
    "    print(\"Negative number\")`"
   ]
  },
  {
   "cell_type": "markdown",
   "metadata": {},
   "source": [
    "# Lists  \n",
    "\n",
    "Python.org tutorial on [lists](https://docs.python.org/3/tutorial/introduction.html#lists) and [more on lists](https://docs.python.org/3/tutorial/datastructures.html#more-on-lists)  \n",
    "Python.org Standard Library documentation for [**Sequence Types — list, tuple, range**](https://docs.python.org/3/library/stdtypes.html#sequence-types-list-tuple-range) (see this one!)"
   ]
  },
  {
   "cell_type": "markdown",
   "metadata": {},
   "source": [
    "**Simple list**"
   ]
  },
  {
   "cell_type": "code",
   "execution_count": 1,
   "metadata": {},
   "outputs": [
    {
     "data": {
      "text/plain": [
       "[1, 4, 9, 16, 25]"
      ]
     },
     "execution_count": 1,
     "metadata": {},
     "output_type": "execute_result"
    }
   ],
   "source": [
    "squares = [1, 4, 9, 16, 25]\n",
    "squares"
   ]
  },
  {
   "cell_type": "markdown",
   "metadata": {},
   "source": [
    "**Indexing and slicing**"
   ]
  },
  {
   "cell_type": "code",
   "execution_count": 2,
   "metadata": {},
   "outputs": [
    {
     "name": "stdout",
     "output_type": "stream",
     "text": [
      "1\n",
      "4\n",
      "25\n",
      "[1, 4]\n",
      "[16, 25]\n",
      "[1, 4, 9, 16, 25]\n"
     ]
    }
   ],
   "source": [
    "print(squares[0])\n",
    "print(squares[1])\n",
    "print(squares[-1])\n",
    "print(squares[0:2])\n",
    "print(squares[-2:])\n",
    "print(squares[:])"
   ]
  },
  {
   "cell_type": "markdown",
   "metadata": {},
   "source": [
    "**List append, concatenation and assignment**  \n",
    "Unlike strings, which are immutable, lists are a mutable type, i.e. it is possible to change their content:"
   ]
  },
  {
   "cell_type": "code",
   "execution_count": 3,
   "metadata": {},
   "outputs": [
    {
     "name": "stdout",
     "output_type": "stream",
     "text": [
      "[1, 4, 9, 16, 25]\n"
     ]
    }
   ],
   "source": [
    "squares = [1, 4, 9, 16, 25]\n",
    "print(squares)"
   ]
  },
  {
   "cell_type": "code",
   "execution_count": 4,
   "metadata": {},
   "outputs": [
    {
     "name": "stdout",
     "output_type": "stream",
     "text": [
      "[1, 4, 9, 16, 25, 36]\n"
     ]
    }
   ],
   "source": [
    "# Append\n",
    "squares.append(36)\n",
    "print(squares)"
   ]
  },
  {
   "cell_type": "code",
   "execution_count": 5,
   "metadata": {},
   "outputs": [
    {
     "name": "stdout",
     "output_type": "stream",
     "text": [
      "[1, 4, 9, 16, 25, 36, 49]\n"
     ]
    }
   ],
   "source": [
    "# Concatenation of one element (in this case equivalent to append)\n",
    "squares = squares + [49]\n",
    "print(squares)"
   ]
  },
  {
   "cell_type": "code",
   "execution_count": 6,
   "metadata": {},
   "outputs": [
    {
     "name": "stdout",
     "output_type": "stream",
     "text": [
      "[1, 4, 9, 16, 25, 36, 49, 65]\n"
     ]
    }
   ],
   "source": [
    "#Equivalent to the previous \n",
    "squares[len(squares):] = [65]\n",
    "print(squares)"
   ]
  },
  {
   "cell_type": "code",
   "execution_count": 7,
   "metadata": {},
   "outputs": [
    {
     "name": "stdout",
     "output_type": "stream",
     "text": [
      "[1, 4, 9, 16, 25, 36, 49, 65, 81, 100]\n"
     ]
    }
   ],
   "source": [
    "# Concatenation of multiple element\n",
    "squares = squares + [81, 100]\n",
    "print(squares)"
   ]
  },
  {
   "cell_type": "code",
   "execution_count": 8,
   "metadata": {},
   "outputs": [
    {
     "name": "stdout",
     "output_type": "stream",
     "text": [
      "[1, 4, 9, 16, 25, 36, 49, 65]\n"
     ]
    }
   ],
   "source": [
    "#Remove last two elements\n",
    "squares[-2:] = []\n",
    "print(squares)"
   ]
  },
  {
   "cell_type": "code",
   "execution_count": 9,
   "metadata": {},
   "outputs": [
    {
     "name": "stdout",
     "output_type": "stream",
     "text": [
      "[1, 4, 9, 16, 25, 36, 49, 65, 81, 100]\n"
     ]
    }
   ],
   "source": [
    "#Insert the two elements again \n",
    "squares[len(squares):] = [81, 100]\n",
    "print(squares)"
   ]
  },
  {
   "cell_type": "code",
   "execution_count": 10,
   "metadata": {
    "scrolled": true
   },
   "outputs": [
    {
     "name": "stdout",
     "output_type": "stream",
     "text": [
      "[1, 4, 9, 16, 25, 36, 49, 64, 81, 100]\n"
     ]
    }
   ],
   "source": [
    "#Assignment\n",
    "squares[7] = 64 # 8**2 equals 64, not 65!\n",
    "print(squares)"
   ]
  },
  {
   "cell_type": "markdown",
   "metadata": {},
   "source": [
    "**ATTENTION:** Notice that above we haven't use the brackets! Otherwise we would be introducing the list `[64]` in the list squares."
   ]
  },
  {
   "cell_type": "code",
   "execution_count": 11,
   "metadata": {},
   "outputs": [
    {
     "name": "stdout",
     "output_type": "stream",
     "text": [
      "['a', 'b', 'c', 'd', 'e', 'f', 'g']\n"
     ]
    }
   ],
   "source": [
    "letters = ['a', 'b', 'c', 'd', 'e','f','g']\n",
    "print(letters)"
   ]
  },
  {
   "cell_type": "code",
   "execution_count": 12,
   "metadata": {},
   "outputs": [
    {
     "name": "stdout",
     "output_type": "stream",
     "text": [
      "['a', 'b', 'C', 'D', 'E', 'f', 'g']\n"
     ]
    }
   ],
   "source": [
    "# Slice assignment\n",
    "letters[2:5] = ['C', 'D', 'E']\n",
    "print(letters)"
   ]
  },
  {
   "cell_type": "code",
   "execution_count": 13,
   "metadata": {},
   "outputs": [
    {
     "name": "stdout",
     "output_type": "stream",
     "text": [
      "['a', 'b', 'f', 'g']\n"
     ]
    }
   ],
   "source": [
    "# now remove them\n",
    "letters[2:5] = []\n",
    "print(letters)\n"
   ]
  },
  {
   "cell_type": "code",
   "execution_count": 14,
   "metadata": {},
   "outputs": [
    {
     "name": "stdout",
     "output_type": "stream",
     "text": [
      "[]\n"
     ]
    }
   ],
   "source": [
    "# clear the list by replacing all the elements with an empty list\n",
    "letters[:] = []\n",
    "print(letters)"
   ]
  },
  {
   "cell_type": "markdown",
   "metadata": {},
   "source": [
    "**The difference between a single element and a slice:**"
   ]
  },
  {
   "cell_type": "code",
   "execution_count": 15,
   "metadata": {},
   "outputs": [
    {
     "name": "stdout",
     "output_type": "stream",
     "text": [
      "<class 'str'>\n",
      "<class 'list'>\n",
      "<class 'list'>\n"
     ]
    }
   ],
   "source": [
    "letters = ['a', 'b', 'c', 'd', 'e','f','g']\n",
    "\n",
    "print(type(letters[0]))\n",
    "print(type(letters[0:1]))\n",
    "print(type(letters[0:2]))"
   ]
  },
  {
   "cell_type": "code",
   "execution_count": 16,
   "metadata": {},
   "outputs": [
    {
     "name": "stdout",
     "output_type": "stream",
     "text": [
      "['a', 'B', 'c', 'd', 'e', 'f', 'g']\n"
     ]
    }
   ],
   "source": [
    "# Element assignment\n",
    "letters[1] = 'B'\n",
    "print(letters)"
   ]
  },
  {
   "cell_type": "code",
   "execution_count": 17,
   "metadata": {},
   "outputs": [
    {
     "name": "stdout",
     "output_type": "stream",
     "text": [
      "['a', 'B', 'C', 'D', 'E', 'f', 'g']\n"
     ]
    }
   ],
   "source": [
    "# Slice assignment\n",
    "letters[2:5] = ['C', 'D', 'E']\n",
    "print(letters)"
   ]
  },
  {
   "cell_type": "code",
   "execution_count": 18,
   "metadata": {},
   "outputs": [
    {
     "name": "stdout",
     "output_type": "stream",
     "text": [
      "['a', 'B', 'C', 'D', 'E', ['F'], 'g']\n"
     ]
    }
   ],
   "source": [
    "# Element assignment\n",
    "letters[5] = ['F']\n",
    "print(letters)"
   ]
  },
  {
   "cell_type": "code",
   "execution_count": 19,
   "metadata": {},
   "outputs": [
    {
     "name": "stdout",
     "output_type": "stream",
     "text": [
      "['a', 'B', 'C', 'D', 'E', 'F', 'g']\n"
     ]
    }
   ],
   "source": [
    "# Element assignment\n",
    "letters[5] = 'F'\n",
    "print(letters)"
   ]
  },
  {
   "cell_type": "markdown",
   "metadata": {},
   "source": [
    "**ATTENTION:** Notice the difference between the two approaches above!"
   ]
  },
  {
   "cell_type": "markdown",
   "metadata": {},
   "source": [
    "**List of lists (nest lists)**"
   ]
  },
  {
   "cell_type": "code",
   "execution_count": 20,
   "metadata": {},
   "outputs": [
    {
     "name": "stdout",
     "output_type": "stream",
     "text": [
      "[[1, 4, 9, 16], ['a', 'b', 'c', 'd', 'e', 'f', 'g']]\n",
      "[1, 4, 9, 16]\n",
      "4\n"
     ]
    }
   ],
   "source": [
    "squares = [1, 4, 9, 16]\n",
    "letters = ['a', 'b', 'c', 'd', 'e','f','g']\n",
    "x = [squares, letters]\n",
    "\n",
    "print(x)\n",
    "print(x[0])\n",
    "print(x[0][1])"
   ]
  },
  {
   "cell_type": "markdown",
   "metadata": {},
   "source": [
    "**Lists' methods and functions on lists**"
   ]
  },
  {
   "cell_type": "code",
   "execution_count": 21,
   "metadata": {},
   "outputs": [
    {
     "name": "stdout",
     "output_type": "stream",
     "text": [
      "4\n"
     ]
    }
   ],
   "source": [
    "squares = [1, 4, 9, 16]\n",
    "print(len(squares)) #Number of elements in the list"
   ]
  },
  {
   "cell_type": "code",
   "execution_count": 22,
   "metadata": {},
   "outputs": [
    {
     "name": "stdout",
     "output_type": "stream",
     "text": [
      "True\n",
      "False\n",
      "False\n"
     ]
    }
   ],
   "source": [
    "print(9 in squares) #Check presence of element in the list\n",
    "print(64 in squares)\n",
    "print([4, 9] in squares) # Notice that squares is not a list of lists hence [4, 9] cannot be part of it!"
   ]
  },
  {
   "cell_type": "code",
   "execution_count": 23,
   "metadata": {},
   "outputs": [
    {
     "name": "stdout",
     "output_type": "stream",
     "text": [
      "[1, 4, 9, 16, 25]\n"
     ]
    }
   ],
   "source": [
    "squares.append(25) #Appends a new item with value x to the end of the array\n",
    "print(squares)"
   ]
  },
  {
   "cell_type": "code",
   "execution_count": 24,
   "metadata": {},
   "outputs": [
    {
     "name": "stdout",
     "output_type": "stream",
     "text": [
      "9\n",
      "[1, 4, 16, 25]\n"
     ]
    }
   ],
   "source": [
    "print(squares.pop(2)) #array.pop([i]) removes the item with the index i from the array and returns it. The optional argument defaults to -1.\n",
    "print(squares)"
   ]
  },
  {
   "cell_type": "code",
   "execution_count": 25,
   "metadata": {},
   "outputs": [
    {
     "name": "stdout",
     "output_type": "stream",
     "text": [
      "[1, 4, 9, 16, 25]\n"
     ]
    }
   ],
   "source": [
    "squares.insert(2, 9) #Insert an item at a given position. The first argument is the index of the element before which to insert.\n",
    "print(squares)"
   ]
  },
  {
   "cell_type": "code",
   "execution_count": 26,
   "metadata": {},
   "outputs": [
    {
     "name": "stdout",
     "output_type": "stream",
     "text": [
      "[1, 4, 16, 25]\n"
     ]
    }
   ],
   "source": [
    "squares.remove(9) #Remove the first item from the list whose value is equal to 9\n",
    "print(squares)"
   ]
  },
  {
   "cell_type": "code",
   "execution_count": 27,
   "metadata": {},
   "outputs": [
    {
     "name": "stdout",
     "output_type": "stream",
     "text": [
      "[1, 4, 9, 16, 25]\n"
     ]
    }
   ],
   "source": [
    "squares.insert(2, 9)\n",
    "print(squares)"
   ]
  },
  {
   "cell_type": "code",
   "execution_count": 28,
   "metadata": {},
   "outputs": [
    {
     "name": "stdout",
     "output_type": "stream",
     "text": [
      "[1, 4, 16, 25]\n"
     ]
    }
   ],
   "source": [
    "del squares[2] #Equivalent to pop but doesn't return the value\n",
    "print(squares)"
   ]
  },
  {
   "cell_type": "code",
   "execution_count": 29,
   "metadata": {},
   "outputs": [
    {
     "name": "stdout",
     "output_type": "stream",
     "text": [
      "0\n",
      "2\n"
     ]
    }
   ],
   "source": [
    "print(squares.count(9)) #Return the number of times 9 appears in the list\n",
    "squares.append(25)\n",
    "print(squares.count(25))"
   ]
  },
  {
   "cell_type": "code",
   "execution_count": 30,
   "metadata": {},
   "outputs": [
    {
     "name": "stdout",
     "output_type": "stream",
     "text": [
      "3\n"
     ]
    }
   ],
   "source": [
    "print(squares.index(25)) # Return zero-based index in the list of the first item whose value is equal to 25."
   ]
  },
  {
   "cell_type": "code",
   "execution_count": 31,
   "metadata": {},
   "outputs": [
    {
     "name": "stdout",
     "output_type": "stream",
     "text": [
      "[1, 4, 9, 16, 25]\n",
      "[25, 16, 9, 4, 1]\n"
     ]
    }
   ],
   "source": [
    "squares = [4, 1, 16, 9, 25]\n",
    "squares.sort() #Sort the items of the list in place\n",
    "print(squares)\n",
    "squares.sort(reverse=True)\n",
    "print(squares)"
   ]
  },
  {
   "cell_type": "code",
   "execution_count": 32,
   "metadata": {},
   "outputs": [
    {
     "name": "stdout",
     "output_type": "stream",
     "text": [
      "[]\n"
     ]
    }
   ],
   "source": [
    "squares.clear() #Remove all items from the list. Equivalent to del squares[:].\n",
    "print(squares)"
   ]
  },
  {
   "cell_type": "markdown",
   "metadata": {},
   "source": [
    "**Import csv file as a list of lists**"
   ]
  },
  {
   "cell_type": "code",
   "execution_count": 33,
   "metadata": {},
   "outputs": [
    {
     "name": "stdout",
     "output_type": "stream",
     "text": [
      "<_io.TextIOWrapper name='datasets/AppleStore.csv' mode='r' encoding='utf8'>\n",
      "<_csv.reader object at 0x000002A8D5055FA0>\n",
      "[['id', 'track_name', 'size_bytes', 'currency', 'price', 'rating_count_tot', 'rating_count_ver', 'user_rating', 'user_rating_ver', 'ver', 'cont_rating', 'prime_genre', 'sup_devices.num', 'ipadSc_urls.num', 'lang.num', 'vpp_lic'], ['284882215', 'Facebook', '389879808', 'USD', '0.0', '2974676', '212', '3.5', '3.5', '95.0', '4+', 'Social Networking', '37', '1', '29', '1'], ['389801252', 'Instagram', '113954816', 'USD', '0.0', '2161558', '1289', '4.5', '4.0', '10.23', '12+', 'Photo & Video', '37', '0', '29', '1']]\n",
      "['id', 'track_name', 'size_bytes', 'currency', 'price', 'rating_count_tot', 'rating_count_ver', 'user_rating', 'user_rating_ver', 'ver', 'cont_rating', 'prime_genre', 'sup_devices.num', 'ipadSc_urls.num', 'lang.num', 'vpp_lic']\n",
      "['284882215', 'Facebook', '389879808', 'USD', '0.0', '2974676', '212', '3.5', '3.5', '95.0', '4+', 'Social Networking', '37', '1', '29', '1']\n",
      "['389801252', 'Instagram', '113954816', 'USD', '0.0', '2161558', '1289', '4.5', '4.0', '10.23', '12+', 'Photo & Video', '37', '0', '29', '1']\n"
     ]
    }
   ],
   "source": [
    "opened_file = open('datasets/AppleStore.csv', encoding=\"utf8\")\n",
    "print(opened_file)\n",
    "\n",
    "from csv import reader\n",
    "read_file = reader(opened_file)\n",
    "print(read_file)\n",
    "\n",
    "apps_data = list(read_file)\n",
    "print(apps_data[0:3])\n",
    "\n",
    "headers =  apps_data[0]\n",
    "row1 = apps_data[1]\n",
    "row2 = apps_data[2]\n",
    "\n",
    "print(headers)\n",
    "print(row1)\n",
    "print(row2)"
   ]
  },
  {
   "cell_type": "markdown",
   "metadata": {},
   "source": [
    "# Dictionaries and frequency tables  \n",
    "A dictionary is like a list, but more general. In a list, the indices have to be integers, in a dictionary they can be (almost) any type.  \n",
    "Python.org Standard Library documentation for [dictionary type](https://docs.python.org/3/library/stdtypes.html#mapping-types-dict)"
   ]
  },
  {
   "cell_type": "markdown",
   "metadata": {},
   "source": [
    "**Creating a dictionary**"
   ]
  },
  {
   "cell_type": "code",
   "execution_count": 34,
   "metadata": {},
   "outputs": [
    {
     "name": "stdout",
     "output_type": "stream",
     "text": [
      "{'jack': 4098, 'sape': 4139, 'john': 2739}\n"
     ]
    }
   ],
   "source": [
    "# 1st way: manually\n",
    "tel1 = {'jack': 4098, 'sape': 4139, 'john': 2739}\n",
    "print(tel1)"
   ]
  },
  {
   "cell_type": "code",
   "execution_count": 35,
   "metadata": {},
   "outputs": [
    {
     "name": "stdout",
     "output_type": "stream",
     "text": [
      "{'jack': 4098, 'sape': 4139, 'john': 2739}\n"
     ]
    }
   ],
   "source": [
    "#2nd way: create an empty dictionary and append new key-value pairs\n",
    "tel2 = {}\n",
    "tel2['jack'] = 4098\n",
    "tel2['sape'] = 4139\n",
    "tel2['john'] = 2739\n",
    "print(tel2)"
   ]
  },
  {
   "cell_type": "code",
   "execution_count": 36,
   "metadata": {},
   "outputs": [
    {
     "name": "stdout",
     "output_type": "stream",
     "text": [
      "{'jack': 4098, 'sape': 4139, 'john': 2739}\n"
     ]
    }
   ],
   "source": [
    "# 3nd way: The dict() constructor builds dictionaries directly from sequences of key-value pairs (list of tuples)\n",
    "tel3 = dict([('jack', 4098), ('sape', 4139), ('john', 2739)])\n",
    "print(tel3)"
   ]
  },
  {
   "cell_type": "code",
   "execution_count": 37,
   "metadata": {},
   "outputs": [
    {
     "name": "stdout",
     "output_type": "stream",
     "text": [
      "<zip object at 0x000002A8D5862300>\n",
      "[('jack', 4098), ('sape', 4139), ('john', 2739)]\n",
      "{'jack': 4098, 'sape': 4139, 'john': 2739}\n"
     ]
    }
   ],
   "source": [
    "#4th way:\n",
    "names = ['jack','sape','john']\n",
    "points = [4098, 4139, 2739]\n",
    "tel4 = zip(names, points) # zip() makes an iterator that aggregates elements from each of the iterables\n",
    "print(tel4)\n",
    "tel4 = list(tel4)\n",
    "print(tel4)\n",
    "tel4 = dict(tel4)\n",
    "print(tel4)"
   ]
  },
  {
   "cell_type": "markdown",
   "metadata": {},
   "source": [
    "**Dictionary manipulation**"
   ]
  },
  {
   "cell_type": "code",
   "execution_count": 38,
   "metadata": {},
   "outputs": [
    {
     "name": "stdout",
     "output_type": "stream",
     "text": [
      "{'jack': 4098, 'sape': 4139, 'john': 2739, 'mik': 100}\n",
      "200\n",
      "{'jack': 4098, 'sape': 4139, 'john': 2739}\n"
     ]
    }
   ],
   "source": [
    "tel1['mik'] = 100\n",
    "print(tel1)\n",
    "\n",
    "tel1['mik'] += 100\n",
    "print(tel1['mik'])\n",
    "\n",
    "del tel1['mik']\n",
    "print(tel1)"
   ]
  },
  {
   "cell_type": "markdown",
   "metadata": {},
   "source": [
    "**Functions on dictionaries**"
   ]
  },
  {
   "cell_type": "code",
   "execution_count": 39,
   "metadata": {},
   "outputs": [
    {
     "name": "stdout",
     "output_type": "stream",
     "text": [
      "True\n",
      "False\n",
      "False\n",
      "['jack', 'sape', 'john']\n",
      "3\n"
     ]
    }
   ],
   "source": [
    "print('jack' in tel1)\n",
    "print('jack' not in tel1)\n",
    "print(4098 in tel1)\n",
    "print(list(tel1))\n",
    "print(len(tel1))"
   ]
  },
  {
   "cell_type": "code",
   "execution_count": 40,
   "metadata": {},
   "outputs": [
    {
     "name": "stdout",
     "output_type": "stream",
     "text": [
      "dict_keys(['jack', 'sape', 'john'])\n",
      "['jack', 'sape', 'john'] \n",
      "\n"
     ]
    }
   ],
   "source": [
    "# The objects returned by dict.keys(), dict.values() and dict.items() are view objects.\n",
    "# They provide a dynamic view on the dictionary’s entries.\n",
    "\n",
    "k = tel1.keys()\n",
    "print(k)\n",
    "print(list(k), '\\n')"
   ]
  },
  {
   "cell_type": "code",
   "execution_count": 41,
   "metadata": {},
   "outputs": [
    {
     "name": "stdout",
     "output_type": "stream",
     "text": [
      "dict_values([4098, 4139, 2739])\n",
      "[4098, 4139, 2739] \n",
      "\n"
     ]
    }
   ],
   "source": [
    "v = tel1.values()\n",
    "print(v)\n",
    "print(list(v), '\\n')"
   ]
  },
  {
   "cell_type": "code",
   "execution_count": 42,
   "metadata": {},
   "outputs": [
    {
     "name": "stdout",
     "output_type": "stream",
     "text": [
      "dict_items([('jack', 4098), ('sape', 4139), ('john', 2739)])\n",
      "[('jack', 4098), ('sape', 4139), ('john', 2739)] \n",
      "\n"
     ]
    }
   ],
   "source": [
    "it = tel1.items()\n",
    "print(it)\n",
    "print(list(it), '\\n')"
   ]
  },
  {
   "cell_type": "code",
   "execution_count": 43,
   "metadata": {},
   "outputs": [
    {
     "name": "stdout",
     "output_type": "stream",
     "text": [
      "dict_keys(['jack', 'sape', 'john', 'mik'])\n",
      "dict_values([4098, 4139, 2739, 100]) \n",
      "\n",
      "100 0\n"
     ]
    }
   ],
   "source": [
    "# Which means that when the dictionary changes the view reflects these changes.\n",
    "tel1['mik'] = 100\n",
    "print(k)\n",
    "print(v, '\\n')\n",
    "\n",
    "mik = tel1.pop('mik', 0) # If key is in the dictionary, remove it and return its value, else return default. \n",
    "mat = tel1.pop('mat', 0) # If default is not given and key is not in the dictionary, a KeyError is raised.\n",
    "print(mik, mat)"
   ]
  },
  {
   "cell_type": "markdown",
   "metadata": {},
   "source": [
    "# For loops"
   ]
  },
  {
   "cell_type": "markdown",
   "metadata": {},
   "source": [
    "**Frequency table using dictionary**"
   ]
  },
  {
   "cell_type": "code",
   "execution_count": 44,
   "metadata": {},
   "outputs": [
    {
     "name": "stdout",
     "output_type": "stream",
     "text": [
      "{3.5: 702, 4.5: 2663, 4.0: 1626, 3.0: 383, 5.0: 492, 2.5: 196, 2.0: 106, 1.5: 56, 1.0: 44, 0.0: 929}\n",
      "3.5 702\n",
      "4.5 2663\n",
      "4.0 1626\n",
      "3.0 383\n",
      "5.0 492\n",
      "2.5 196\n",
      "2.0 106\n",
      "1.5 56\n",
      "1.0 44\n",
      "0.0 929\n"
     ]
    }
   ],
   "source": [
    "freq_tabe = {}\n",
    "\n",
    "for row in apps_data[1:]:\n",
    "    rating = float(row[7])\n",
    "    if rating in freq_tabe:\n",
    "        freq_tabe[rating] += 1\n",
    "    else:\n",
    "        freq_tabe[rating] = 1\n",
    "        \n",
    "print(freq_tabe)\n",
    "\n",
    "# Loop over a dictionary\n",
    "for key in freq_tabe:\n",
    "    print(key, freq_tabe[key])\n"
   ]
  },
  {
   "cell_type": "markdown",
   "metadata": {},
   "source": [
    "**Averaging list's elements**"
   ]
  },
  {
   "cell_type": "code",
   "execution_count": 45,
   "metadata": {},
   "outputs": [
    {
     "name": "stdout",
     "output_type": "stream",
     "text": [
      "3.526955675976101\n"
     ]
    }
   ],
   "source": [
    "# Two approaches to the same problem: average computation using lists\n",
    "\n",
    "rating_sum = 0\n",
    "for row in apps_data[1:]:\n",
    "    rating = float(row[7])\n",
    "    rating_sum += rating\n",
    "\n",
    "avg_rating1 = rating_sum/(len(apps_data[1:]))\n",
    "print(avg_rating1)"
   ]
  },
  {
   "cell_type": "code",
   "execution_count": 46,
   "metadata": {},
   "outputs": [
    {
     "name": "stdout",
     "output_type": "stream",
     "text": [
      "3.526955675976101\n"
     ]
    }
   ],
   "source": [
    "all_ratings = []\n",
    "for row in apps_data[1:]:\n",
    "    rating = float(row[7])\n",
    "    all_ratings.append(rating)\n",
    "\n",
    "avg_rating2 = sum(all_ratings)/len(all_ratings)\n",
    "print(avg_rating2)"
   ]
  },
  {
   "cell_type": "markdown",
   "metadata": {},
   "source": [
    "**For loops - Other examples**"
   ]
  },
  {
   "cell_type": "code",
   "execution_count": 47,
   "metadata": {},
   "outputs": [
    {
     "name": "stdout",
     "output_type": "stream",
     "text": [
      "jack 4098\n",
      "sape 4139\n",
      "john 2739\n"
     ]
    }
   ],
   "source": [
    "tel1 = {'jack': 4098, 'sape': 4139, 'john': 2739}\n",
    "\n",
    "for key in tel1:\n",
    "    print(key, tel1[key])"
   ]
  },
  {
   "cell_type": "code",
   "execution_count": 48,
   "metadata": {},
   "outputs": [
    {
     "name": "stdout",
     "output_type": "stream",
     "text": [
      "jack 4098\n",
      "sape 4139\n",
      "john 2739\n"
     ]
    }
   ],
   "source": [
    "for key in tel1.keys():\n",
    "    print(key, tel1[key])"
   ]
  },
  {
   "cell_type": "code",
   "execution_count": 49,
   "metadata": {},
   "outputs": [
    {
     "name": "stdout",
     "output_type": "stream",
     "text": [
      "jack 4098\n",
      "sape 4139\n",
      "john 2739\n"
     ]
    }
   ],
   "source": [
    "for k, v in tel1.items():\n",
    "    print(k, v)"
   ]
  },
  {
   "cell_type": "code",
   "execution_count": 50,
   "metadata": {},
   "outputs": [
    {
     "name": "stdout",
     "output_type": "stream",
     "text": [
      "range(8, 0, -2)\n",
      "8\n",
      "6\n",
      "4\n",
      "2\n",
      "\n",
      "\n",
      "3\n"
     ]
    }
   ],
   "source": [
    "print(range(8,0,-2))\n",
    "for i in range(8,0,-2):\n",
    "    print(i)\n",
    "    i = 3 # Notice that changing i has no effect since i is updated in the beginning of the loop\n",
    "    \n",
    "#(except that i will be updated to 3 when the loop is finished)\n",
    "print('\\n')\n",
    "print(i)"
   ]
  },
  {
   "cell_type": "code",
   "execution_count": 51,
   "metadata": {},
   "outputs": [
    {
     "name": "stdout",
     "output_type": "stream",
     "text": [
      "[8, 6, 4, 2]\n",
      "8\n",
      "6\n",
      "4\n",
      "2\n"
     ]
    }
   ],
   "source": [
    "print(list(range(8,0,-2)))\n",
    "for i in range(8,0,-2):\n",
    "    print(i)"
   ]
  },
  {
   "cell_type": "code",
   "execution_count": 52,
   "metadata": {},
   "outputs": [
    {
     "name": "stdout",
     "output_type": "stream",
     "text": [
      "[2, 4, 6, 8]\n",
      "2\n",
      "4\n",
      "6\n",
      "8\n"
     ]
    }
   ],
   "source": [
    "print(sorted(range(8,0,-2)))\n",
    "for i in sorted(range(8,0,-2)):\n",
    "    print(i)"
   ]
  }
 ],
 "metadata": {
  "kernelspec": {
   "display_name": "Python 3",
   "language": "python",
   "name": "python3"
  },
  "language_info": {
   "codemirror_mode": {
    "name": "ipython",
    "version": 3
   },
   "file_extension": ".py",
   "mimetype": "text/x-python",
   "name": "python",
   "nbconvert_exporter": "python",
   "pygments_lexer": "ipython3",
   "version": "3.8.3"
  }
 },
 "nbformat": 4,
 "nbformat_minor": 2
}
