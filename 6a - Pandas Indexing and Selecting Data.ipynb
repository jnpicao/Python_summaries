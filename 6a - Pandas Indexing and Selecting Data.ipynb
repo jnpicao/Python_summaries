{
 "cells": [
  {
   "cell_type": "markdown",
   "metadata": {},
   "source": [
    "# Pandas Indexing and Selecting Data  \n",
    "\n",
    "User guide [Indexing and Selecting Data](https://pandas.pydata.org/pandas-docs/stable/user_guide/indexing.html#indexing).  \n",
    "\n",
    "The axis labeling information in pandas objects serves many purposes:\n",
    "- Identifies data (i.e. provides metadata) using known indicators.\n",
    "- Enables automatic and explicit data alignment.\n",
    "- Allows intuitive getting and setting of subsets of the data set.  \n",
    "\n",
    "We will focus on the final point: namely, how to slice, dice, and generally get and set subsets of pandas objects. "
   ]
  },
  {
   "cell_type": "markdown",
   "metadata": {},
   "source": [
    "Pandas now supports three types of multi-axis indexing:\n",
    "1. `.loc[]`\n",
    "2. `.iloc[]`\n",
    "3. `[]` (a.k.a. \\_\\_getitem\\_\\_)\n",
    "4. Attribute access.   \n",
    "  \n",
    "Getting values from an object with multi-axes selection uses the following notation (using .loc as an example, but the following applies to .iloc as well):\n",
    "- Any of the axes accessors may be the null slice `:`.\n",
    "- Axes left out of the specification are assumed to be `:` (e.g. `p.loc['a']` is equivalent to `p.loc['a', :, :]`).  \n",
    "\n",
    "|Object Type | Indexers\n",
    "| :--- | :--- \n",
    "|Series | `s.loc[indexer]`\n",
    "|DataFrame | `df.loc[row_indexer,column_indexer]`\n",
    "|Panel| `p.loc[item_indexer,major_indexer,minor_indexer]`"
   ]
  },
  {
   "cell_type": "code",
   "execution_count": 1,
   "metadata": {},
   "outputs": [],
   "source": [
    "import pandas as pd\n",
    "import numpy as np"
   ]
  },
  {
   "cell_type": "markdown",
   "metadata": {},
   "source": [
    "# 1. `.loc[]` is label based (but may also be used with a boolean array):  \n",
    "\n",
    "- Every label asked for must be in the index, or a `KeyError` will be raised.\n",
    "- When slicing, both the start bound **AND** the stop bound are included, if present in the index.\n",
    "- Integers are valid labels, but they refer to the label and **not the position**.  \n",
    "\n",
    "The `.loc[]` attribute is the **primary access method**. The following are valid inputs:\n",
    "- A single label, e.g. 5 or 'a' (note that 5 is interpreted as a label of the index. This use is not an integer position along the index).\n",
    "- A list or array of labels `['a', 'b', 'c']`.\n",
    "- A slice object with labels `'a':'f'` (note that contrary to usual python slices, **both the start and the stop are included**, when present in the index!).\n",
    "- A boolean array."
   ]
  },
  {
   "cell_type": "code",
   "execution_count": 2,
   "metadata": {},
   "outputs": [
    {
     "data": {
      "text/plain": [
       "a    1.764052\n",
       "b    0.400157\n",
       "c    0.978738\n",
       "d    2.240893\n",
       "e    1.867558\n",
       "dtype: float64"
      ]
     },
     "execution_count": 2,
     "metadata": {},
     "output_type": "execute_result"
    }
   ],
   "source": [
    "# Random state is initializer.\n",
    "np.random.seed(seed=0)\n",
    "s1 = pd.Series(np.random.randn(5), index=list('abcde'))\n",
    "s1"
   ]
  },
  {
   "cell_type": "code",
   "execution_count": 3,
   "metadata": {},
   "outputs": [
    {
     "data": {
      "text/plain": [
       "1.764052345967664"
      ]
     },
     "execution_count": 3,
     "metadata": {},
     "output_type": "execute_result"
    }
   ],
   "source": [
    "s1.loc['a']"
   ]
  },
  {
   "cell_type": "code",
   "execution_count": 4,
   "metadata": {},
   "outputs": [
    {
     "data": {
      "text/plain": [
       "d    2.240893\n",
       "e    1.867558\n",
       "dtype: float64"
      ]
     },
     "execution_count": 4,
     "metadata": {},
     "output_type": "execute_result"
    }
   ],
   "source": [
    "s1.loc['d':'e']"
   ]
  },
  {
   "cell_type": "markdown",
   "metadata": {},
   "source": [
    "Note that setting works as well:"
   ]
  },
  {
   "cell_type": "code",
   "execution_count": 5,
   "metadata": {},
   "outputs": [
    {
     "data": {
      "text/plain": [
       "a    1.764052\n",
       "b    0.400157\n",
       "c    0.000000\n",
       "d    0.000000\n",
       "e    0.000000\n",
       "dtype: float64"
      ]
     },
     "execution_count": 5,
     "metadata": {},
     "output_type": "execute_result"
    }
   ],
   "source": [
    "s1.loc['c':] = 0\n",
    "s1"
   ]
  },
  {
   "cell_type": "code",
   "execution_count": 6,
   "metadata": {},
   "outputs": [
    {
     "data": {
      "text/plain": [
       "0    1.764052\n",
       "2    0.400157\n",
       "4    0.978738\n",
       "6    2.240893\n",
       "8    1.867558\n",
       "dtype: float64"
      ]
     },
     "execution_count": 6,
     "metadata": {},
     "output_type": "execute_result"
    }
   ],
   "source": [
    "np.random.seed(seed=0); s2 = pd.Series(np.random.randn(5), index=range(0,10,2))\n",
    "s2"
   ]
  },
  {
   "cell_type": "code",
   "execution_count": 7,
   "metadata": {},
   "outputs": [
    {
     "data": {
      "text/plain": [
       "0.9787379841057392"
      ]
     },
     "execution_count": 7,
     "metadata": {},
     "output_type": "execute_result"
    }
   ],
   "source": [
    "s2.loc[4]"
   ]
  },
  {
   "cell_type": "markdown",
   "metadata": {},
   "source": [
    "Notice that `s2.loc[4]` returns the element with **label** 4, **not index** 4 (which would be 1.867558)."
   ]
  },
  {
   "cell_type": "markdown",
   "metadata": {},
   "source": [
    "# 2. `.iloc[]` is integer position based (from 0 to length-1, but may also be used with a boolean array).:"
   ]
  },
  {
   "cell_type": "markdown",
   "metadata": {},
   "source": [
    "# 3. `[]` (a.k.a. \\_\\_getitem\\_\\_): the primary function of this option is selecting out lower-dimensional slices:\n",
    " - `series[label]`\treturns a scalar value.\n",
    " - `frame[colname]`returns a Series corresponding to colname.\n",
    " \n",
    "**Note**: You can also pass a list of columns to [] to select columns in that order. If a column is not contained in the DataFrame, an exception will be raised."
   ]
  },
  {
   "cell_type": "code",
   "execution_count": 8,
   "metadata": {},
   "outputs": [
    {
     "data": {
      "text/html": [
       "<div>\n",
       "<style scoped>\n",
       "    .dataframe tbody tr th:only-of-type {\n",
       "        vertical-align: middle;\n",
       "    }\n",
       "\n",
       "    .dataframe tbody tr th {\n",
       "        vertical-align: top;\n",
       "    }\n",
       "\n",
       "    .dataframe thead th {\n",
       "        text-align: right;\n",
       "    }\n",
       "</style>\n",
       "<table border=\"1\" class=\"dataframe\">\n",
       "  <thead>\n",
       "    <tr style=\"text-align: right;\">\n",
       "      <th></th>\n",
       "      <th>A</th>\n",
       "      <th>B</th>\n",
       "      <th>C</th>\n",
       "    </tr>\n",
       "  </thead>\n",
       "  <tbody>\n",
       "    <tr>\n",
       "      <th>2015-01-01</th>\n",
       "      <td>-0.977278</td>\n",
       "      <td>0.950088</td>\n",
       "      <td>-0.151357</td>\n",
       "    </tr>\n",
       "    <tr>\n",
       "      <th>2016-01-01</th>\n",
       "      <td>-0.103219</td>\n",
       "      <td>0.410599</td>\n",
       "      <td>0.144044</td>\n",
       "    </tr>\n",
       "    <tr>\n",
       "      <th>2017-01-01</th>\n",
       "      <td>1.454274</td>\n",
       "      <td>0.761038</td>\n",
       "      <td>0.121675</td>\n",
       "    </tr>\n",
       "    <tr>\n",
       "      <th>2018-01-01</th>\n",
       "      <td>0.443863</td>\n",
       "      <td>0.333674</td>\n",
       "      <td>1.494079</td>\n",
       "    </tr>\n",
       "    <tr>\n",
       "      <th>2019-01-01</th>\n",
       "      <td>-0.205158</td>\n",
       "      <td>0.313068</td>\n",
       "      <td>-0.854096</td>\n",
       "    </tr>\n",
       "  </tbody>\n",
       "</table>\n",
       "</div>"
      ],
      "text/plain": [
       "                   A         B         C\n",
       "2015-01-01 -0.977278  0.950088 -0.151357\n",
       "2016-01-01 -0.103219  0.410599  0.144044\n",
       "2017-01-01  1.454274  0.761038  0.121675\n",
       "2018-01-01  0.443863  0.333674  1.494079\n",
       "2019-01-01 -0.205158  0.313068 -0.854096"
      ]
     },
     "execution_count": 8,
     "metadata": {},
     "output_type": "execute_result"
    }
   ],
   "source": [
    "dates = pd.date_range('2015', periods=5, freq='AS')\n",
    "df = pd.DataFrame(np.random.randn(5, 3),index=dates, columns=['A', 'B', 'C'])\n",
    "df"
   ]
  },
  {
   "cell_type": "code",
   "execution_count": 9,
   "metadata": {},
   "outputs": [
    {
     "data": {
      "text/plain": [
       "2015-01-01   -0.977278\n",
       "2016-01-01   -0.103219\n",
       "2017-01-01    1.454274\n",
       "2018-01-01    0.443863\n",
       "2019-01-01   -0.205158\n",
       "Freq: AS-JAN, Name: A, dtype: float64"
      ]
     },
     "execution_count": 9,
     "metadata": {},
     "output_type": "execute_result"
    }
   ],
   "source": [
    "s = df['A']\n",
    "s"
   ]
  },
  {
   "cell_type": "code",
   "execution_count": 10,
   "metadata": {},
   "outputs": [
    {
     "data": {
      "text/plain": [
       "Timestamp('2018-01-01 00:00:00', freq='AS-JAN')"
      ]
     },
     "execution_count": 10,
     "metadata": {},
     "output_type": "execute_result"
    }
   ],
   "source": [
    "dates[3]"
   ]
  },
  {
   "cell_type": "code",
   "execution_count": 11,
   "metadata": {},
   "outputs": [
    {
     "data": {
      "text/plain": [
       "0.44386323274542566"
      ]
     },
     "execution_count": 11,
     "metadata": {},
     "output_type": "execute_result"
    }
   ],
   "source": [
    "s[dates[3]]"
   ]
  },
  {
   "cell_type": "code",
   "execution_count": 12,
   "metadata": {},
   "outputs": [
    {
     "data": {
      "text/html": [
       "<div>\n",
       "<style scoped>\n",
       "    .dataframe tbody tr th:only-of-type {\n",
       "        vertical-align: middle;\n",
       "    }\n",
       "\n",
       "    .dataframe tbody tr th {\n",
       "        vertical-align: top;\n",
       "    }\n",
       "\n",
       "    .dataframe thead th {\n",
       "        text-align: right;\n",
       "    }\n",
       "</style>\n",
       "<table border=\"1\" class=\"dataframe\">\n",
       "  <thead>\n",
       "    <tr style=\"text-align: right;\">\n",
       "      <th></th>\n",
       "      <th>B</th>\n",
       "      <th>A</th>\n",
       "    </tr>\n",
       "  </thead>\n",
       "  <tbody>\n",
       "    <tr>\n",
       "      <th>2015-01-01</th>\n",
       "      <td>0.950088</td>\n",
       "      <td>-0.977278</td>\n",
       "    </tr>\n",
       "    <tr>\n",
       "      <th>2016-01-01</th>\n",
       "      <td>0.410599</td>\n",
       "      <td>-0.103219</td>\n",
       "    </tr>\n",
       "    <tr>\n",
       "      <th>2017-01-01</th>\n",
       "      <td>0.761038</td>\n",
       "      <td>1.454274</td>\n",
       "    </tr>\n",
       "    <tr>\n",
       "      <th>2018-01-01</th>\n",
       "      <td>0.333674</td>\n",
       "      <td>0.443863</td>\n",
       "    </tr>\n",
       "    <tr>\n",
       "      <th>2019-01-01</th>\n",
       "      <td>0.313068</td>\n",
       "      <td>-0.205158</td>\n",
       "    </tr>\n",
       "  </tbody>\n",
       "</table>\n",
       "</div>"
      ],
      "text/plain": [
       "                   B         A\n",
       "2015-01-01  0.950088 -0.977278\n",
       "2016-01-01  0.410599 -0.103219\n",
       "2017-01-01  0.761038  1.454274\n",
       "2018-01-01  0.333674  0.443863\n",
       "2019-01-01  0.313068 -0.205158"
      ]
     },
     "execution_count": 12,
     "metadata": {},
     "output_type": "execute_result"
    }
   ],
   "source": [
    "df[['B', 'A']]"
   ]
  },
  {
   "cell_type": "markdown",
   "metadata": {},
   "source": [
    "Assignment is also possible. You may find this useful for applying a transform (in-place) to a subset of the columns (**warning**: the following doesn't work with `.loc[]` or `.iloc[]` bacause pandas aligns all AXES when setting Series and DataFrame from `.loc[]` and `.iloc[]`)."
   ]
  },
  {
   "cell_type": "code",
   "execution_count": 13,
   "metadata": {},
   "outputs": [
    {
     "data": {
      "text/html": [
       "<div>\n",
       "<style scoped>\n",
       "    .dataframe tbody tr th:only-of-type {\n",
       "        vertical-align: middle;\n",
       "    }\n",
       "\n",
       "    .dataframe tbody tr th {\n",
       "        vertical-align: top;\n",
       "    }\n",
       "\n",
       "    .dataframe thead th {\n",
       "        text-align: right;\n",
       "    }\n",
       "</style>\n",
       "<table border=\"1\" class=\"dataframe\">\n",
       "  <thead>\n",
       "    <tr style=\"text-align: right;\">\n",
       "      <th></th>\n",
       "      <th>A</th>\n",
       "      <th>B</th>\n",
       "      <th>C</th>\n",
       "    </tr>\n",
       "  </thead>\n",
       "  <tbody>\n",
       "    <tr>\n",
       "      <th>2015-01-01</th>\n",
       "      <td>0.950088</td>\n",
       "      <td>-0.977278</td>\n",
       "      <td>-0.151357</td>\n",
       "    </tr>\n",
       "    <tr>\n",
       "      <th>2016-01-01</th>\n",
       "      <td>0.410599</td>\n",
       "      <td>-0.103219</td>\n",
       "      <td>0.144044</td>\n",
       "    </tr>\n",
       "    <tr>\n",
       "      <th>2017-01-01</th>\n",
       "      <td>0.761038</td>\n",
       "      <td>1.454274</td>\n",
       "      <td>0.121675</td>\n",
       "    </tr>\n",
       "    <tr>\n",
       "      <th>2018-01-01</th>\n",
       "      <td>0.333674</td>\n",
       "      <td>0.443863</td>\n",
       "      <td>1.494079</td>\n",
       "    </tr>\n",
       "    <tr>\n",
       "      <th>2019-01-01</th>\n",
       "      <td>0.313068</td>\n",
       "      <td>-0.205158</td>\n",
       "      <td>-0.854096</td>\n",
       "    </tr>\n",
       "  </tbody>\n",
       "</table>\n",
       "</div>"
      ],
      "text/plain": [
       "                   A         B         C\n",
       "2015-01-01  0.950088 -0.977278 -0.151357\n",
       "2016-01-01  0.410599 -0.103219  0.144044\n",
       "2017-01-01  0.761038  1.454274  0.121675\n",
       "2018-01-01  0.333674  0.443863  1.494079\n",
       "2019-01-01  0.313068 -0.205158 -0.854096"
      ]
     },
     "execution_count": 13,
     "metadata": {},
     "output_type": "execute_result"
    }
   ],
   "source": [
    "df[['B', 'A']] = df[['A', 'B']]\n",
    "df"
   ]
  },
  {
   "cell_type": "markdown",
   "metadata": {},
   "source": [
    "# 4. Attribute access  \n",
    "\n",
    "You may access an index on a Series, column on a DataFrame, and an item on a Panel directly as an attribute.  \n",
    "`df.A` is equivalent to `df['A']`.  \n",
    "\n",
    "**Warning**:\n",
    "- **Assignment is possible only if the column already existes**. Otherwise use `df['col'] = ...`\n",
    "- You can use this access only if the index element is a valid Python identifier, e.g. s.1 is not allowed.\n",
    "- The attribute will not be available if it conflicts with an existing method name, e.g. s.min is not allowed.  \n",
    "\n",
    "In any of these cases, standard indexing will still work, e.g. `s['1']`, `s['min']`, and `s['index']`."
   ]
  },
  {
   "cell_type": "code",
   "execution_count": 14,
   "metadata": {},
   "outputs": [
    {
     "data": {
      "text/plain": [
       "2015-01-01    0.950088\n",
       "2016-01-01    0.410599\n",
       "2017-01-01    0.761038\n",
       "2018-01-01    0.333674\n",
       "2019-01-01    0.313068\n",
       "Freq: AS-JAN, Name: A, dtype: float64"
      ]
     },
     "execution_count": 14,
     "metadata": {},
     "output_type": "execute_result"
    }
   ],
   "source": [
    "df.A"
   ]
  },
  {
   "cell_type": "code",
   "execution_count": 15,
   "metadata": {},
   "outputs": [
    {
     "data": {
      "text/plain": [
       "2015-01-01    0.950088\n",
       "2016-01-01    0.410599\n",
       "2017-01-01    0.761038\n",
       "2018-01-01    0.333674\n",
       "2019-01-01    0.313068\n",
       "Freq: AS-JAN, Name: A, dtype: float64"
      ]
     },
     "execution_count": 15,
     "metadata": {},
     "output_type": "execute_result"
    }
   ],
   "source": [
    "df['A']"
   ]
  }
 ],
 "metadata": {
  "kernelspec": {
   "display_name": "Python 3",
   "language": "python",
   "name": "python3"
  },
  "language_info": {
   "codemirror_mode": {
    "name": "ipython",
    "version": 3
   },
   "file_extension": ".py",
   "mimetype": "text/x-python",
   "name": "python",
   "nbconvert_exporter": "python",
   "pygments_lexer": "ipython3",
   "version": "3.8.3"
  }
 },
 "nbformat": 4,
 "nbformat_minor": 2
}
