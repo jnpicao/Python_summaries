{
 "cells": [
  {
   "cell_type": "markdown",
   "metadata": {},
   "source": [
    "# User defined functions  \n",
    "```python\n",
    "def function_name(var1, var2=5, var3=True):   \n",
    "    code...\n",
    "    if condition == true:\n",
    "        return new_var1, new_var2\n",
    "    else:\n",
    "        return new_var3, new_var4  \n",
    "```\n",
    "\n",
    "Input variables are called **parameters**, and the various values that parameters take are called **arguments**.  \n",
    "`var1`, `var2` and `var3` are parameters, whereas `5` and `True` are arguments passed to `var2` and `var3`.  \n",
    "\n",
    "We don't have to specify `var2` and `var3` when calling the function because `5` and `True` are **default arguments** for these parameters.  \n",
    "All will work the same way:\n",
    "\n",
    "`>>> out1, out2 = function_name(value1)`  \n",
    "`>>> out1, out2 = function_name(var1=value1)`  \n",
    "Arguments that are passed by position are called **positional arguments**. When we use multiple positional arguments the order we use matters.  \n",
    "`>>> out1, out2 = function_name(value1, 5, True)`  \n",
    "Arguments that are passed by name are called **keyword arguments**. In this case the order we use doesn't make any difference.  \n",
    "`>>> out1, out2 = function_name(var3=True, var2=5, var1=value1)`  \n",
    "\n",
    "The **variables** defined in the **main program** are said to be in the **global scope**, while the variables defined **inside a function** are in the **local scope**. Python searches the global scope if a variable is not available in the local scope, but the reverse doesn't apply."
   ]
  },
  {
   "cell_type": "markdown",
   "metadata": {},
   "source": [
    "# Built-in functions  \n",
    "\n",
    "Python.org Standard Library documentation for [Built-in Functions](https://docs.python.org/3/library/functions.html)"
   ]
  },
  {
   "cell_type": "markdown",
   "metadata": {},
   "source": [
    "Rounding a number: round()"
   ]
  },
  {
   "cell_type": "code",
   "execution_count": 1,
   "metadata": {},
   "outputs": [
    {
     "name": "stdout",
     "output_type": "stream",
     "text": [
      "5 5.0 4.7\n"
     ]
    }
   ],
   "source": [
    "x1 = round(4.652189)\n",
    "x2 = round(4.652189, 0)\n",
    "x3 = round(4.652189, 1)\n",
    "print(x1, x2, x3)"
   ]
  },
  {
   "cell_type": "markdown",
   "metadata": {},
   "source": [
    "Converting between data types: int(), str(), float(), str(4.3)\n",
    "Finding the type of an object: type()"
   ]
  },
  {
   "cell_type": "code",
   "execution_count": 2,
   "metadata": {},
   "outputs": [
    {
     "name": "stdout",
     "output_type": "stream",
     "text": [
      "4 4 4.3 4.3\n",
      "<class 'int'> <class 'str'> <class 'float'> <class 'str'>\n",
      "<class 'int'> <class 'str'>\n"
     ]
    }
   ],
   "source": [
    "x1 = int('4')\n",
    "x2 = str(4)\n",
    "x3 = float('4.3')\n",
    "x4 = str(4.3)\n",
    "\n",
    "print(x1, x2, x3, x4)\n",
    "print(type(x1), type(x2), type(x3), type(x4))\n",
    "print(type(4), type('4'))"
   ]
  },
  {
   "cell_type": "markdown",
   "metadata": {},
   "source": [
    "Common Sequence functions: len(), min(), max()   "
   ]
  },
  {
   "cell_type": "markdown",
   "metadata": {},
   "source": [
    "# Lambda functions  \n",
    "\n",
    "The lambda operator or lambda function is a way to create small anonymous functions, i.e. functions without a name. These functions are throw-away functions, i.e. they are just needed where they have been created. But you can also assign the lambda function to a variable to give it a name.  Lambda functions are mainly used in combination with the functions filter(), map() and reduce(). \n",
    "\n",
    "It is an anonymous inline function consisting of a single expression which is evaluated when the function is called. The syntax to create a lambda function is `lambda [parameters]: expression`  \n",
    "Small anonymous functions can be created with the lambda keyword.  \n",
    "They are syntactically restricted to a single expression.  \n",
    "\n",
    "Let's say you have a function that works like this:  \n",
    "```def add(first_num, second_num):\n",
    "    return first_num + second_num```  \n",
    "\n",
    "\"parameters\" : `first_num, second_num`  \n",
    "\"expression\" : `first_num + second_num`  \n",
    "\n",
    "So turning this into a lambda would be something like:  \n",
    "```lambda first_num, second_num : first_num + second_num```"
   ]
  },
  {
   "cell_type": "code",
   "execution_count": 3,
   "metadata": {},
   "outputs": [
    {
     "data": {
      "text/plain": [
       "2"
      ]
     },
     "execution_count": 3,
     "metadata": {},
     "output_type": "execute_result"
    }
   ],
   "source": [
    "f = lambda x, y : x + y\n",
    "f(1,1)"
   ]
  },
  {
   "cell_type": "markdown",
   "metadata": {},
   "source": [
    "The advantage of the **lambda** operator can be seen when it is used in **combination with the map()** function.   \n",
    "map() is a function with two arguments: `r = map(function, sequence)`"
   ]
  },
  {
   "cell_type": "code",
   "execution_count": 4,
   "metadata": {},
   "outputs": [
    {
     "name": "stdout",
     "output_type": "stream",
     "text": [
      "<map object at 0x000000FF005F09B0>\n",
      "[2, 4, 6]\n",
      "<map object at 0x000000FF005F0978>\n",
      "[2, 4, 6]\n"
     ]
    }
   ],
   "source": [
    "list1 = [1, 2, 3]\n",
    "list2 = [1, 2, 3]\n",
    "\n",
    "print(map(f, list1, list2))\n",
    "print(list(map(f, list1, list2)))\n",
    "\n",
    "print(map(lambda x, y : x + y, list1, list2))\n",
    "print(list(map(lambda x, y : x + y, list1, list2)))\n"
   ]
  },
  {
   "cell_type": "markdown",
   "metadata": {},
   "source": [
    "# List Comprehensions  \n",
    "\n",
    "List comprehensions provide a **concise way to create lists**. Common applications are to make new lists where each element is the result of some operations applied to each member of another sequence or iterable, or to create a subsequence of those elements that satisfy a certain condition  \n",
    "\n",
    "A **list comprehension consists of brackets containing**:\n",
    "* **an expression** followed by;\n",
    "* one or more a **for clauses**, then;\n",
    "* zero or more **if clauses**.\n",
    "\n",
    "**The result will be a new list resulting from evaluating the expression** in the context of the for and if clauses which follow it.  \n",
    "\n",
    "**A list comprehension always returns a result list**.  \n",
    "\n",
    "Python.org Standard Library documentation for [list comprehensions](https://docs.python.org/3/tutorial/datastructures.html#list-comprehensions) and [nested list comprehensions](https://docs.python.org/3/tutorial/datastructures.html#nested-list-comprehensions)."
   ]
  },
  {
   "cell_type": "markdown",
   "metadata": {},
   "source": [
    "For loop approach:"
   ]
  },
  {
   "cell_type": "code",
   "execution_count": 5,
   "metadata": {},
   "outputs": [
    {
     "data": {
      "text/plain": [
       "[0, 1, 4, 9, 16, 25, 36, 49, 64, 81]"
      ]
     },
     "execution_count": 5,
     "metadata": {},
     "output_type": "execute_result"
    }
   ],
   "source": [
    "squares = []\n",
    "for x in range(10):\n",
    "    squares.append(x**2)\n",
    "\n",
    "squares"
   ]
  },
  {
   "cell_type": "markdown",
   "metadata": {},
   "source": [
    "Lambda function approach:"
   ]
  },
  {
   "cell_type": "code",
   "execution_count": 6,
   "metadata": {},
   "outputs": [
    {
     "data": {
      "text/plain": [
       "[0, 1, 4, 9, 16, 25, 36, 49, 64, 81]"
      ]
     },
     "execution_count": 6,
     "metadata": {},
     "output_type": "execute_result"
    }
   ],
   "source": [
    "squares.clear()\n",
    "squares = list(map(lambda x: x**2, range(10)))\n",
    "squares"
   ]
  },
  {
   "cell_type": "markdown",
   "metadata": {},
   "source": [
    "List Comprehension approach:"
   ]
  },
  {
   "cell_type": "code",
   "execution_count": 7,
   "metadata": {},
   "outputs": [
    {
     "data": {
      "text/plain": [
       "[0, 1, 4, 9, 16, 25, 36, 49, 64, 81]"
      ]
     },
     "execution_count": 7,
     "metadata": {},
     "output_type": "execute_result"
    }
   ],
   "source": [
    "squares.clear()\n",
    "squares = [x**2 for x in range(10)]\n",
    "squares"
   ]
  },
  {
   "cell_type": "markdown",
   "metadata": {},
   "source": [
    "Other examples:"
   ]
  },
  {
   "cell_type": "code",
   "execution_count": 8,
   "metadata": {},
   "outputs": [
    {
     "data": {
      "text/plain": [
       "[(1, 3), (1, 4), (2, 3), (2, 1), (2, 4), (3, 1), (3, 4)]"
      ]
     },
     "execution_count": 8,
     "metadata": {},
     "output_type": "execute_result"
    }
   ],
   "source": [
    "[(x, y) for x in [1,2,3] for y in [3,1,4] if x != y]"
   ]
  },
  {
   "cell_type": "markdown",
   "metadata": {},
   "source": [
    "which is equivalent to..."
   ]
  },
  {
   "cell_type": "code",
   "execution_count": 9,
   "metadata": {},
   "outputs": [
    {
     "data": {
      "text/plain": [
       "[(1, 3), (1, 4), (2, 3), (2, 1), (2, 4), (3, 1), (3, 4)]"
      ]
     },
     "execution_count": 9,
     "metadata": {},
     "output_type": "execute_result"
    }
   ],
   "source": [
    "combs = []\n",
    "for x in [1,2,3]:\n",
    "    for y in [3,1,4]:\n",
    "        if x != y:\n",
    "            combs.append((x, y))\n",
    "combs"
   ]
  },
  {
   "cell_type": "code",
   "execution_count": 10,
   "metadata": {},
   "outputs": [
    {
     "data": {
      "text/plain": [
       "[-8, -4, 0, 4, 8]"
      ]
     },
     "execution_count": 10,
     "metadata": {},
     "output_type": "execute_result"
    }
   ],
   "source": [
    "vec = [-4, -2, 0, 2, 4]\n",
    "# create a new list with the values doubled\n",
    "[x*2 for x in vec]"
   ]
  },
  {
   "cell_type": "code",
   "execution_count": 11,
   "metadata": {},
   "outputs": [
    {
     "data": {
      "text/plain": [
       "[0, 2, 4]"
      ]
     },
     "execution_count": 11,
     "metadata": {},
     "output_type": "execute_result"
    }
   ],
   "source": [
    "# filter the list to exclude negative numbers\n",
    "[x for x in vec if x >= 0]"
   ]
  },
  {
   "cell_type": "code",
   "execution_count": 12,
   "metadata": {},
   "outputs": [
    {
     "data": {
      "text/plain": [
       "[4, 2, 0, 2, 4]"
      ]
     },
     "execution_count": 12,
     "metadata": {},
     "output_type": "execute_result"
    }
   ],
   "source": [
    "# apply a function to all the elements\n",
    "[abs(x) for x in vec]"
   ]
  },
  {
   "cell_type": "code",
   "execution_count": 13,
   "metadata": {},
   "outputs": [
    {
     "data": {
      "text/plain": [
       "['banana', 'loganberry', 'passion fruit']"
      ]
     },
     "execution_count": 13,
     "metadata": {},
     "output_type": "execute_result"
    }
   ],
   "source": [
    "# call a method on each element\n",
    "freshfruit = ['  banana', '  loganberry ', 'passion fruit  ']\n",
    "[weapon.strip() for weapon in freshfruit]"
   ]
  },
  {
   "cell_type": "code",
   "execution_count": 14,
   "metadata": {},
   "outputs": [
    {
     "data": {
      "text/plain": [
       "[(0, 0), (1, 1), (2, 4), (3, 9), (4, 16), (5, 25)]"
      ]
     },
     "execution_count": 14,
     "metadata": {},
     "output_type": "execute_result"
    }
   ],
   "source": [
    "# create a list of 2-tuples like (number, square)\n",
    "[(x, x**2) for x in range(6)]"
   ]
  },
  {
   "cell_type": "code",
   "execution_count": 15,
   "metadata": {},
   "outputs": [
    {
     "data": {
      "text/plain": [
       "[1, 2, 3, 4, 5, 6, 7, 8, 9]"
      ]
     },
     "execution_count": 15,
     "metadata": {},
     "output_type": "execute_result"
    }
   ],
   "source": [
    "# flatten a list using a listcomp with two 'for'\n",
    "vec2 = [[1,2,3], [4,5,6], [7,8,9]]\n",
    "[num for elem in vec2 for num in elem]"
   ]
  },
  {
   "cell_type": "markdown",
   "metadata": {},
   "source": [
    "**Nested list comprehensions**"
   ]
  },
  {
   "cell_type": "code",
   "execution_count": 16,
   "metadata": {},
   "outputs": [
    {
     "data": {
      "text/plain": [
       "[[1, 2, 3, 4], [5, 6, 7, 8], [9, 10, 11, 12]]"
      ]
     },
     "execution_count": 16,
     "metadata": {},
     "output_type": "execute_result"
    }
   ],
   "source": [
    "matrix = [\n",
    "    [1, 2, 3, 4],\n",
    "    [5, 6, 7, 8],\n",
    "    [9, 10, 11, 12],\n",
    "    ]\n",
    "matrix"
   ]
  },
  {
   "cell_type": "markdown",
   "metadata": {},
   "source": [
    "The following list comprehension will transpose rows and columns:"
   ]
  },
  {
   "cell_type": "code",
   "execution_count": 17,
   "metadata": {},
   "outputs": [
    {
     "data": {
      "text/plain": [
       "[[1, 5, 9], [2, 6, 10], [3, 7, 11], [4, 8, 12]]"
      ]
     },
     "execution_count": 17,
     "metadata": {},
     "output_type": "execute_result"
    }
   ],
   "source": [
    "[[row[i] for row in matrix] for i in range(4)]"
   ]
  },
  {
   "cell_type": "markdown",
   "metadata": {},
   "source": [
    "The nested listcomp is evaluated in the context of the for that follows it, so this example is equivalent to:"
   ]
  },
  {
   "cell_type": "code",
   "execution_count": 18,
   "metadata": {},
   "outputs": [
    {
     "data": {
      "text/plain": [
       "[[1, 5, 9], [2, 6, 10], [3, 7, 11], [4, 8, 12]]"
      ]
     },
     "execution_count": 18,
     "metadata": {},
     "output_type": "execute_result"
    }
   ],
   "source": [
    "transposed = []\n",
    "for i in range(4):\n",
    "    transposed.append([row[i] for row in matrix])\n",
    "transposed"
   ]
  },
  {
   "cell_type": "markdown",
   "metadata": {},
   "source": [
    "# Object-Oriented Python - Classes  \n",
    "\n",
    "A **class** describes an object's type. It defines:\n",
    "* What data is stored in the object, known as attributes.\n",
    "* What actions the object can do, known as methods.  \n",
    "\n",
    "An **attribute** is a variable that belongs to an instance of a class.  \n",
    "A **method** is a function that belongs to an instance of a class.  \n",
    "Attributes and methods are accessed using dot notation. Attributes do not use parentheses, whereas methods do.  \n",
    "\n",
    "An **instance** describes a specific element of a class. For instance, in the code `x = 3`, `x` is an instance of the type `int`. When an object is created, it is known as **instantiation**.  \n",
    "\n",
    "A class definition is code that defines how a class behaves, including all methods and attributes. Some rules:\n",
    "* All methods must include self, representing the object instance, as their first parameter.\n",
    "* The init method (`__init__()`) is one of a number of special methods that Python defines. It runs at the moment an object is instantiated.\n",
    "* It is convention to start the name of any attributes or methods that aren't intended for external use with an underscore.  \n",
    "\n",
    "Python.org Tutorial documentation for [classes](https://docs.python.org/3/tutorial/classes.html).  \n",
    "\n",
    "Notes:  \n",
    "Actually, you may have guessed the answer: the special thing about methods is that the instance object is passed as the first argument of the function. In our example, the call `x.f()` is exactly equivalent to `MyClass.f(x)`.  \n",
    "In general, calling a method with a list of n arguments is equivalent to calling the corresponding function with an argument list that is created by inserting the method’s instance object before the first argument."
   ]
  },
  {
   "cell_type": "code",
   "execution_count": 19,
   "metadata": {},
   "outputs": [
    {
     "name": "stdout",
     "output_type": "stream",
     "text": [
      "5\n",
      "6\n"
     ]
    }
   ],
   "source": [
    "class NewList():\n",
    "    \"\"\"\n",
    "    A Python list with some extras!\n",
    "    \"\"\"\n",
    "    def __init__(self, initial_state):\n",
    "        self.data = initial_state\n",
    "        self.calc_length()\n",
    "    \n",
    "    def append(self, new_item):\n",
    "        \"\"\"\n",
    "        Append `new_item` to the NewList\n",
    "        \"\"\"\n",
    "        self.data = self.data + [new_item]\n",
    "        self.calc_length()\n",
    "        \n",
    "    def calc_length(self):\n",
    "        length = 0\n",
    "        for i in self.data:\n",
    "            length += 1\n",
    "        self.length = length\n",
    "        \n",
    "        \n",
    "fibonacci = NewList([1, 1, 2, 3, 5])\n",
    "print(fibonacci.length)\n",
    "\n",
    "fibonacci.append(8)\n",
    "print(fibonacci.length)"
   ]
  },
  {
   "cell_type": "markdown",
   "metadata": {},
   "source": [
    "# Errors and Exceptions  \n",
    "\n",
    "There are (at least) two distinguishable kinds of errors: **syntax errors** (detected at compile-time for compiled languages) and **exceptions** (detected during program execution).  \n",
    "\n",
    "Even if a statement or expression is syntactically correct, it may cause an error when an attempt is made to execute it. Errors detected during execution are called exceptions and can be handled.  \n",
    "\n",
    "Exceptions come in different types, and the type is printed as part of the message. The string printed as the exception type is the name of the built-in exception that occurred. This is true for all built-in exceptions, but need not be true for user-defined exceptions (although it is a useful convention).  \n",
    "\n",
    "Python.org Standard Library documentation for [built-in exceptions](https://docs.python.org/3/library/exceptions.html#bltin-exceptions). "
   ]
  },
  {
   "cell_type": "markdown",
   "metadata": {},
   "source": [
    "The **try statement** works as follows:\n",
    "* First, the `try` clause (the statement(s) between the try and except keywords) is executed.\n",
    "* If no exception occurs, the `except` clause is skipped and execution of the try statement is finished.\n",
    "* If an exception occurs during execution of the try clause, the rest of the clause is skipped. Then if its type matches the `exception` named after the except keyword, the except clause is executed, and then execution continues after the try statement.\n",
    "* If an exception occurs which does not match the exception named in the except clause, it is passed on to outer try statements; if no handler is found, it is an unhandled exception and execution stops with a message as shown above.  \n",
    "\n",
    "A try statement may have more than one except clause, to specify handlers for different exceptions. At most one handler will be executed.   \n",
    "An except clause may name multiple exceptions as a parenthesized tuple, for example: `except (RuntimeError, TypeError, NameError):`"
   ]
  },
  {
   "cell_type": "code",
   "execution_count": 20,
   "metadata": {},
   "outputs": [
    {
     "name": "stdout",
     "output_type": "stream",
     "text": [
      "Please enter a number: 5\n"
     ]
    }
   ],
   "source": [
    "while True:\n",
    "    try:\n",
    "        x = int(input(\"Please enter a number: \"))\n",
    "        break\n",
    "    except ValueError:\n",
    "        print(\"Oops!  That was no valid number.  Try again...\")\n"
   ]
  },
  {
   "cell_type": "markdown",
   "metadata": {},
   "source": [
    "The **raise statement** allows the programmer to force a specified exception to occur. For example: `raise NameError('HiThere')`."
   ]
  }
 ],
 "metadata": {
  "kernelspec": {
   "display_name": "Python 3",
   "language": "python",
   "name": "python3"
  },
  "language_info": {
   "codemirror_mode": {
    "name": "ipython",
    "version": 3
   },
   "file_extension": ".py",
   "mimetype": "text/x-python",
   "name": "python",
   "nbconvert_exporter": "python",
   "pygments_lexer": "ipython3",
   "version": "3.7.3"
  }
 },
 "nbformat": 4,
 "nbformat_minor": 2
}
