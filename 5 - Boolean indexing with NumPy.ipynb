{
 "cells": [
  {
   "cell_type": "markdown",
   "metadata": {},
   "source": [
    "# Import csv directly to a numpy ndarray using np.genfromtxt()\n",
    "Use numpy.genfromtxt() function  to import the nyc_taxis.csv file directly as a Numpy ndarray. <br>Every entry is imported with the same type, in this case float64. <br>In this case it is not possible to store text, which is imported as Nan (headers in the 1st row), but it would be possible to have a numpy array only with string elements."
   ]
  },
  {
   "cell_type": "code",
   "execution_count": 1,
   "metadata": {},
   "outputs": [
    {
     "name": "stdout",
     "output_type": "stream",
     "text": [
      "<class 'numpy.ndarray'>\n",
      "float64\n",
      "[nan nan nan nan nan nan nan nan nan nan nan nan nan nan nan]\n",
      "[2.016e+03 1.000e+00 1.000e+00 5.000e+00 0.000e+00 2.000e+00 4.000e+00\n",
      " 2.100e+01 2.037e+03 5.200e+01 8.000e-01 5.540e+00 1.165e+01 6.999e+01\n",
      " 1.000e+00]\n"
     ]
    }
   ],
   "source": [
    "import numpy as np\n",
    "\n",
    "taxi = np.genfromtxt('datasets/nyc_taxis.csv', delimiter=',')\n",
    "\n",
    "# Data is imported directly as a numpy ndarray\n",
    "print(type(taxi))\n",
    "\n",
    "# Every entry of an ndarray must be of the same tipe, in this case float64.\n",
    "# Text (in our case the headers in the 1st row) is imported as NaN\n",
    "print(taxi.dtype)\n",
    "print(taxi[0,:])\n",
    "\n",
    "\n",
    "# Remove headers\n",
    "taxi = taxi[1:,:]\n",
    "print(taxi[0,:])"
   ]
  },
  {
   "cell_type": "markdown",
   "metadata": {},
   "source": [
    "# Scalar operation on vector\n",
    "We can perform any scalar operation on a numpy ndarray and it will be applied to every element of the vector."
   ]
  },
  {
   "cell_type": "code",
   "execution_count": 2,
   "metadata": {},
   "outputs": [
    {
     "name": "stdout",
     "output_type": "stream",
     "text": [
      "[ True  True False False False]\n",
      "[ True  True False  True]\n",
      "[False  True False  True]\n",
      "[[101 102 103 104 105]\n",
      " [106 107 108 109 110]]\n"
     ]
    }
   ],
   "source": [
    "a_array = np.array([1, 2, 3, 4, 5])\n",
    "b_array = np.array([\"blue\", \"blue\", \"red\", \"blue\"])\n",
    "c_array = np.array([80.0, 103.4, 96.9, 200.3])\n",
    "d_array = np.array([[1, 2, 3, 4, 5],[6, 7, 8, 9, 10]])\n",
    "\n",
    "a_result = a_array < 3\n",
    "b_result = b_array == \"blue\"\n",
    "c_result = c_array > 100\n",
    "\n",
    "# It also works when the ndarray has more than one dimension. \n",
    "d_result = d_array + 100\n",
    "\n",
    "print(a_result)\n",
    "print(b_result)\n",
    "print(c_result)\n",
    "print(d_result)"
   ]
  },
  {
   "cell_type": "markdown",
   "metadata": {},
   "source": [
    "# Boolean selection"
   ]
  },
  {
   "cell_type": "markdown",
   "metadata": {},
   "source": [
    "**Boolean selection exemple 1**\n",
    "<br><br>Calculate the number of rides in the taxi ndarray that are from January:\n",
    "* Create a boolean array, february_bool, that evaluates whether the items in pickup_month are equal to 2.\n",
    "* Use the february_bool boolean array to index pickup_month, and assign the result to february.\n",
    "* Use the ndarray.shape attribute to find the number of items in february and assign the result to february_rides."
   ]
  },
  {
   "cell_type": "code",
   "execution_count": 3,
   "metadata": {},
   "outputs": [
    {
     "name": "stdout",
     "output_type": "stream",
     "text": [
      "89560\n",
      "13481\n"
     ]
    }
   ],
   "source": [
    "pickup_month = taxi[:,1]\n",
    "\n",
    "january_bool = pickup_month == 1\n",
    "january = pickup_month[january_bool]\n",
    "january_rides = january.shape[0]\n",
    "\n",
    "print(taxi.shape[0])\n",
    "print(january.shape[0])"
   ]
  },
  {
   "cell_type": "markdown",
   "metadata": {},
   "source": [
    "**Boolean selection exemple 2**\n",
    "* Create a boolean array, `tip_bool`, that determines which rows have values for the `tip_amount` column of more than 50.\n",
    "* Use the `tip_bool` array to select all rows from `taxi` with values tip amounts of more than 50, and the columns from indexes 5 to 13 inclusive. Assign the resulting array to `top_tips`."
   ]
  },
  {
   "cell_type": "code",
   "execution_count": 4,
   "metadata": {},
   "outputs": [],
   "source": [
    "tip_amount = taxi[:,12]\n",
    "tip_bool = tip_amount > 50\n",
    "top_tips = taxi[tip_bool,5:14]"
   ]
  },
  {
   "cell_type": "markdown",
   "metadata": {},
   "source": [
    "# Boolean assignment\n",
    "\n",
    "1) Create the boolean vector first and then use the vector to select the elements to which assiggnment applies.\n",
    "\n",
    "`bool = array[:, column_for_comparison] == value_for_comparison`  \n",
    "`array[bool, column_for_assignment] = new_value`  \n",
    "\n",
    "2) Introduce the selection condition directly inside brackets for assignment in one single step.\n",
    "\n",
    "`array[array[:, column_for_comparison] == value_for_comparison, column_for_assignment] = new_value`"
   ]
  },
  {
   "cell_type": "code",
   "execution_count": 5,
   "metadata": {},
   "outputs": [
    {
     "name": "stdout",
     "output_type": "stream",
     "text": [
      "[ 1  2 99 99 99]\n",
      "[[ 1  2  3]\n",
      " [ 4 99 99]\n",
      " [99 99 99]]\n",
      "[[ 1  2  3]\n",
      " [ 4 99  6]\n",
      " [ 7 99  9]]\n"
     ]
    }
   ],
   "source": [
    "a = np.array([1, 2, 3, 4, 5])\n",
    "a[a > 2] = 99\n",
    "print(a)\n",
    "\n",
    "# # It also works when the ndarray has more than one dimension. \n",
    "b = np.array([[1, 2, 3],\n",
    "              [4, 5, 6],\n",
    "              [7, 8, 9]])\n",
    "b[b > 4] = 99\n",
    "print(b)\n",
    "\n",
    "#Or we can select just partof the columns\n",
    "c = np.array([[1, 2, 3],\n",
    "              [4, 5, 6],\n",
    "              [7, 8, 9]])\n",
    "c[c[:,1] > 2, 1] = 99\n",
    "print(c)"
   ]
  }
 ],
 "metadata": {
  "kernelspec": {
   "display_name": "Python 3",
   "language": "python",
   "name": "python3"
  },
  "language_info": {
   "codemirror_mode": {
    "name": "ipython",
    "version": 3
   },
   "file_extension": ".py",
   "mimetype": "text/x-python",
   "name": "python",
   "nbconvert_exporter": "python",
   "pygments_lexer": "ipython3",
   "version": "3.8.3"
  }
 },
 "nbformat": 4,
 "nbformat_minor": 2
}
